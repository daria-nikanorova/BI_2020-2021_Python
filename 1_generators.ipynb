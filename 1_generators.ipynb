{
 "cells": [
  {
   "cell_type": "code",
   "execution_count": 1,
   "metadata": {},
   "outputs": [],
   "source": [
    "from itertools import permutations\n",
    "from Bio import SeqIO"
   ]
  },
  {
   "cell_type": "code",
   "execution_count": 6,
   "metadata": {},
   "outputs": [
    {
     "name": "stdout",
     "output_type": "stream",
     "text": [
      "['A', 'T', 'G', 'C', 'AT', 'AG', 'AC', 'TA', 'TG', 'TC', 'GA', 'GT', 'GC', 'CA', 'CT', 'CG']\n"
     ]
    }
   ],
   "source": [
    "def generate(n):\n",
    "    for i in range(1, n+1):\n",
    "        for j in permutations(['A', 'T', 'G', 'C'], i):\n",
    "            yield \"\".join(j)\n",
    "\n",
    "\n",
    "print(list(generate(2)))"
   ]
  },
  {
   "cell_type": "code",
   "execution_count": 5,
   "metadata": {},
   "outputs": [
    {
     "name": "stdout",
     "output_type": "stream",
     "text": [
      "VPKAQRCRAVVIS*KFLSENQT*NVAQSNDSLHG**\n"
     ]
    }
   ],
   "source": [
    "def translate_generator(my_path, codon_table=\"Standard\"):\n",
    "    for record in SeqIO.parse(my_path, \"fasta\"):\n",
    "        yield record.translate(codon_table).seq\n",
    "\n",
    "        \n",
    "# replace my_path arg with your path to fasta\n",
    "gen = translate_generator(my_path=\"SRR1705858.fasta\", codon_table=\"Vertebrate Mitochondrial\")\n",
    "print(next(gen))"
   ]
  }
 ],
 "metadata": {
  "kernelspec": {
   "display_name": "Python 3",
   "language": "python",
   "name": "python3"
  },
  "language_info": {
   "codemirror_mode": {
    "name": "ipython",
    "version": 3
   },
   "file_extension": ".py",
   "mimetype": "text/x-python",
   "name": "python",
   "nbconvert_exporter": "python",
   "pygments_lexer": "ipython3",
   "version": "3.7.3"
  }
 },
 "nbformat": 4,
 "nbformat_minor": 2
}
