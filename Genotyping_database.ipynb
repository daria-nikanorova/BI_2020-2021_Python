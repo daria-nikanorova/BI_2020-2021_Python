{
 "cells": [
  {
   "cell_type": "markdown",
   "metadata": {},
   "source": [
    " # Database for genotyping data"
   ]
  },
  {
   "cell_type": "code",
   "execution_count": 2,
   "metadata": {},
   "outputs": [],
   "source": [
    "# import libraries\n",
    "import csv\n",
    "import pandas as pd\n",
    "import sqlite3"
   ]
  },
  {
   "cell_type": "markdown",
   "metadata": {},
   "source": [
    "We need to create a database and insert data from two dataframes: the first one with genotyping data and the second one with metadata."
   ]
  },
  {
   "cell_type": "code",
   "execution_count": 269,
   "metadata": {},
   "outputs": [],
   "source": [
    "# create database\n",
    "connection = sqlite3.connect('genotyping_data.db')"
   ]
  },
  {
   "cell_type": "code",
   "execution_count": 270,
   "metadata": {},
   "outputs": [],
   "source": [
    "# read metadata\n",
    "metadata = pd.read_csv('genotyping_data/metadata.csv', index_col=0)"
   ]
  },
  {
   "cell_type": "markdown",
   "metadata": {},
   "source": [
    "We set ```dna_chip_id``` as PRIMARY KEY, because this column can serve as unique identifier of the samples. However, it's not common practice to use character variables as keys (integers are less memory consuming) "
   ]
  },
  {
   "cell_type": "code",
   "execution_count": 271,
   "metadata": {},
   "outputs": [],
   "source": [
    "# create a table for metadata in db with colnames and their types\n",
    "query = '''CREATE TABLE metadata \n",
    "            (\"dna_chip_id\" TEXT PRIMARY KEY, \n",
    "            \"breed\" TEXT, \n",
    "            \"sex\" TEXT)'''\n",
    "connection.execute(query)\n",
    "connection.commit()"
   ]
  },
  {
   "cell_type": "markdown",
   "metadata": {},
   "source": [
    "We can insert data from dataframe via ```to_sql``` function from pandas:"
   ]
  },
  {
   "cell_type": "code",
   "execution_count": 272,
   "metadata": {},
   "outputs": [],
   "source": [
    "# insert df into db\n",
    "metadata.to_sql('metadata', con=connection, if_exists='append', index=False, chunksize=10000)"
   ]
  },
  {
   "cell_type": "code",
   "execution_count": 273,
   "metadata": {},
   "outputs": [],
   "source": [
    "# read genotyping data\n",
    "genstudio = pd.read_csv('genotyping_data/genstudio.csv', index_col=0)"
   ]
  },
  {
   "cell_type": "code",
   "execution_count": 274,
   "metadata": {},
   "outputs": [],
   "source": [
    "# rename Sample ID column\n",
    "genstudio = genstudio.rename(columns={'Sample ID' : 'dna_chip_id'})"
   ]
  },
  {
   "cell_type": "code",
   "execution_count": 275,
   "metadata": {
    "collapsed": true
   },
   "outputs": [
    {
     "data": {
      "text/plain": [
       "dna_chip_id       \n",
       "202341831114R08C01    68516\n",
       "202341831127R03C01    68516\n",
       "202341831114R01C02    68516\n",
       "202341831114R02C01    68516\n",
       "202341831114R02C02    68516\n",
       "202341831114R03C01    68516\n",
       "202341831114R03C02    68516\n",
       "202341831114R04C01    68516\n",
       "202341831114R04C02    68516\n",
       "202341831114R05C01    68516\n",
       "202341831114R05C02    68516\n",
       "202341831114R06C01    68516\n",
       "202341831114R06C02    68516\n",
       "202341831114R07C01    68516\n",
       "202341831114R07C02    68516\n",
       "202341831114R01C01    68516\n",
       "202341831114R08C02    68516\n",
       "202341831114R09C01    68516\n",
       "202341831114R09C02    68516\n",
       "202341831114R10C01    68516\n",
       "202341831114R10C02    68516\n",
       "202341831114R11C01    68516\n",
       "202341831114R11C02    68516\n",
       "202341831114R12C01    68516\n",
       "202341831114R12C02    68516\n",
       "202341831127R01C01    68516\n",
       "202341831127R01C02    68516\n",
       "202341831127R02C01    68516\n",
       "202341831127R02C02    68516\n",
       "202341831127R03C02    13036\n",
       "dtype: int64"
      ]
     },
     "execution_count": 275,
     "metadata": {},
     "output_type": "execute_result"
    }
   ],
   "source": [
    "# how many SNPs and samples?\n",
    "genstudio[['dna_chip_id']].value_counts()"
   ]
  },
  {
   "cell_type": "markdown",
   "metadata": {},
   "source": [
    "68516 SNPs were genotyped in each of 30 sample, which means that there should be many-to-many link between our dataframes.\n",
    "\n",
    "In terms of genotyping data We set ```genotyping_id``` as PRIMARY KEY, which is simply a row id. Also, we add FOREIGN KEY that links two tables by ```dna_chip_id``` column. Finally, ON DELETE CASCADE method was added. It means that deleting data from metadata, we will automatically delete rows from genotyping data with the same ```dna_chip_id```.\n",
    "\n",
    "It is very helpful, if we want to delete all SNPs that were genotyped for exactly one sample."
   ]
  },
  {
   "cell_type": "code",
   "execution_count": 276,
   "metadata": {},
   "outputs": [],
   "source": [
    "# create new table for genotyping data in db with colnames and their types\n",
    "query = '''CREATE TABLE genstudio \n",
    "            (\"genotyping_id\" INTEGER PRIMARY KEY, \n",
    "            \"SNP Name\" TEXT, \n",
    "            \"SNP Index\" INTEGER, \n",
    "            \"SNP Aux\" INTEGER, \n",
    "            \"dna_chip_id\" TEXT, \n",
    "            \"SNP\" TEXT, \n",
    "            \"Allele1 - Top\" TEXT, \n",
    "            \"Allele2 - Top\" TEXT, \n",
    "            \"Allele1 - Forward\" TEXT, \n",
    "            \"Allele2 - Forward\" TEXT, \n",
    "            \"Allele1 - AB\" TEXT, \n",
    "            \"Allele2 - AB\" TEXT, \n",
    "            \"Chr\" TEXT, \n",
    "            \"Position\" TEXT, \n",
    "            \"GC Score\" REAL, \n",
    "            \"GT Score\" REAL, \n",
    "            \"Theta\" REAL, \n",
    "            \"R\" REAL, \n",
    "            \"B Allele Freq\" REAL, \n",
    "            \"Log R Ratio\" REAL,\n",
    "            CONSTRAINT fk_metadata\n",
    "                FOREIGN KEY (\"dna_chip_id\")\n",
    "                REFERENCES metadata(\"dna_chip_id\")\n",
    "                ON DELETE CASCADE)'''\n",
    "connection.execute(query)\n",
    "connection.commit()"
   ]
  },
  {
   "cell_type": "code",
   "execution_count": 277,
   "metadata": {},
   "outputs": [],
   "source": [
    "# insert df into db\n",
    "genstudio.to_sql('genstudio', con=connection, if_exists='append', index=False, chunksize=10000)"
   ]
  },
  {
   "cell_type": "markdown",
   "metadata": {},
   "source": [
    "Our database is ready. Now we can fetch some data from both tables using JOIN method."
   ]
  },
  {
   "cell_type": "code",
   "execution_count": 278,
   "metadata": {},
   "outputs": [],
   "source": [
    "# query only 5 first rows, all columns, joined by sample id:\n",
    "query = '''\n",
    "    SELECT * FROM genstudio\n",
    "    JOIN metadata ON metadata.\"dna_chip_id\" = genstudio.\"dna_chip_id\"\n",
    "    LIMIT 5'''\n",
    "res = connection.execute(query)"
   ]
  },
  {
   "cell_type": "code",
   "execution_count": 279,
   "metadata": {
    "collapsed": true
   },
   "outputs": [
    {
     "name": "stdout",
     "output_type": "stream",
     "text": [
      "(1, '1_10573221', 1, 0, '202341831114R01C01', '[T/C]', '-', '-', '-', '-', '-', '-', '1', '10573221', 0.0, 0.0, 0.9420000000000001, 0.413, 1.0, 0.404, '202341831114R01C01', 'Д', 'Хр')\n",
      "(2, '1_10673082', 2, 0, '202341831114R01C01', '[T/C]', 'A', 'A', 'T', 'T', 'A', 'A', '1', '10673082', 0.8272, 0.8076, 0.039, 0.968, 0.0, 0.3017, '202341831114R01C01', 'Д', 'Хр')\n",
      "(3, '1_10723065', 3, 0, '202341831114R01C01', '[A/G]', 'A', 'A', 'T', 'T', 'A', 'A', '1', '10723065', 0.8316, 0.8107, 0.011000000000000001, 1.577, 0.0, 0.0388, '202341831114R01C01', 'Д', 'Хр')\n",
      "(4, '1_11337555', 4, 0, '202341831114R01C01', '[A/G]', 'A', 'A', 'T', 'T', 'A', 'A', '1', '11337555', 0.3781, 0.7925, 0.045, 1.104, 0.0, 0.2761, '202341831114R01C01', 'Д', 'Хр')\n",
      "(5, '1_11407894', 5, 0, '202341831114R01C01', '[A/G]', 'G', 'G', 'G', 'G', 'B', 'B', '1', '11407894', 0.9038, 0.867, 0.983, 1.122, 0.9994, 0.0022, '202341831114R01C01', 'Д', 'Хр')\n"
     ]
    }
   ],
   "source": [
    "for row in res.fetchall():\n",
    "    print(row)"
   ]
  },
  {
   "cell_type": "markdown",
   "metadata": {},
   "source": [
    "## UPDATE method"
   ]
  },
  {
   "cell_type": "markdown",
   "metadata": {},
   "source": [
    "As you can see, ```SNP Name``` is coded as chr_position. However some bioinformatics tools accept SNP names in \"chr:position\" style (with colon). So we need to update ```SNP Name```. Let's try for the chromosome 1 only."
   ]
  },
  {
   "cell_type": "code",
   "execution_count": 280,
   "metadata": {},
   "outputs": [],
   "source": [
    "query = '''\n",
    "    UPDATE genstudio\n",
    "    SET \"SNP Name\" = Chr || \":\" || Position\n",
    "    WHERE CHR = 1'''\n",
    "connection.execute(query)\n",
    "connection.commit()"
   ]
  },
  {
   "cell_type": "code",
   "execution_count": 281,
   "metadata": {},
   "outputs": [],
   "source": [
    "# query only 5 first rows, all columns, joined by sample id:\n",
    "query = '''\n",
    "    SELECT \"SNP Name\" FROM genstudio\n",
    "    LIMIT 3'''\n",
    "res = connection.execute(query)"
   ]
  },
  {
   "cell_type": "code",
   "execution_count": 282,
   "metadata": {},
   "outputs": [
    {
     "name": "stdout",
     "output_type": "stream",
     "text": [
      "('1:10573221',)\n",
      "('1:10673082',)\n",
      "('1:10723065',)\n"
     ]
    }
   ],
   "source": [
    "for row in res.fetchall():\n",
    "    print(row)"
   ]
  },
  {
   "cell_type": "markdown",
   "metadata": {},
   "source": [
    "Now ```SNP Name``` is updated!"
   ]
  },
  {
   "cell_type": "markdown",
   "metadata": {},
   "source": [
    "## CASCADE DELETE method"
   ]
  },
  {
   "cell_type": "markdown",
   "metadata": {},
   "source": [
    "Say we found out that the DNA sample 202341831114R02C01 was ruined and should be excluded from the analysis.\n",
    "\n",
    "ON CASCADE DELETE comes in handy!"
   ]
  },
  {
   "cell_type": "code",
   "execution_count": 283,
   "metadata": {},
   "outputs": [],
   "source": [
    "query = '''\n",
    "    PRAGMA foreign_keys=on'''\n",
    "connection.execute(query)\n",
    "connection.commit()"
   ]
  },
  {
   "cell_type": "markdown",
   "metadata": {},
   "source": [
    "We deleted a single row from metadata table, and all the rows with that DNA id were automatically deleted from the genstudio table."
   ]
  },
  {
   "cell_type": "code",
   "execution_count": 284,
   "metadata": {},
   "outputs": [],
   "source": [
    "query = '''\n",
    "    DELETE FROM metadata\n",
    "    WHERE \"dna_chip_id\" = \"202341831114R02C01\"'''\n",
    "connection.execute(query)\n",
    "connection.commit()"
   ]
  },
  {
   "cell_type": "markdown",
   "metadata": {},
   "source": [
    "Let's check that no SNPs genotyped for that altered sample remained in genstudio table:"
   ]
  },
  {
   "cell_type": "code",
   "execution_count": 285,
   "metadata": {},
   "outputs": [],
   "source": [
    "query = '''\n",
    "    SELECT * FROM genstudio\n",
    "    WHERE \"dna_chip_id\" = \"202341831114R02C01\"\n",
    "    LIMIT 3'''\n",
    "res = connection.execute(query)\n",
    "for row in res.fetchall():\n",
    "    print(row)"
   ]
  },
  {
   "cell_type": "markdown",
   "metadata": {},
   "source": [
    "## DELETE method"
   ]
  },
  {
   "cell_type": "markdown",
   "metadata": {},
   "source": [
    "Suppose we are not interested in rare variants (allele frequency < 0.01). We can simply delete such SNPs:"
   ]
  },
  {
   "cell_type": "code",
   "execution_count": 286,
   "metadata": {},
   "outputs": [],
   "source": [
    "query = '''\n",
    "    DELETE FROM genstudio\n",
    "    WHERE \"B Allele Freq\" < 0.01'''\n",
    "connection.execute(query)\n",
    "connection.commit()"
   ]
  },
  {
   "cell_type": "markdown",
   "metadata": {},
   "source": [
    "**Note** that ```dna_chip_id``` of rare variants were not delted from metadata table, which means that ON CASCADE DELETE doesn't work vice versa. "
   ]
  },
  {
   "cell_type": "code",
   "execution_count": 287,
   "metadata": {},
   "outputs": [],
   "source": [
    "# close database\n",
    "connection.close()"
   ]
  }
 ],
 "metadata": {
  "kernelspec": {
   "display_name": "venv",
   "language": "python",
   "name": "venv"
  },
  "language_info": {
   "codemirror_mode": {
    "name": "ipython",
    "version": 3
   },
   "file_extension": ".py",
   "mimetype": "text/x-python",
   "name": "python",
   "nbconvert_exporter": "python",
   "pygments_lexer": "ipython3",
   "version": "3.6.9"
  }
 },
 "nbformat": 4,
 "nbformat_minor": 2
}
